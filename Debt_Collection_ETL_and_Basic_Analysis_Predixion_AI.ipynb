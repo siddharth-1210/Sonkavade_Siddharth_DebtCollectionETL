{
  "nbformat": 4,
  "nbformat_minor": 0,
  "metadata": {
    "colab": {
      "provenance": []
    },
    "kernelspec": {
      "name": "python3",
      "display_name": "Python 3"
    },
    "language_info": {
      "name": "python"
    }
  },
  "cells": [
    {
      "cell_type": "markdown",
      "source": [
        "Data Engineering Assignment: Debt Collection ETL and Basic Analysis\n",
        "\n",
        "Name : Siddharth Sonkavade\n"
      ],
      "metadata": {
        "id": "jQBu0qslkNso"
      }
    },
    {
      "cell_type": "code",
      "source": [
        "import pandas as pd\n",
        "import sqlite3\n",
        "import os"
      ],
      "metadata": {
        "id": "-09me2olo7ke"
      },
      "execution_count": 1,
      "outputs": []
    },
    {
      "cell_type": "code",
      "source": [
        "file_path = \"/content/5k_borrowers_data.csv\""
      ],
      "metadata": {
        "id": "KWAojZnXppIV"
      },
      "execution_count": 2,
      "outputs": []
    },
    {
      "cell_type": "code",
      "source": [
        "if not os.path.exists(file_path):\n",
        "    raise FileNotFoundError(f\"The file {file_path} does not exist.\")\n",
        "\n",
        "# Extract data from CSV\n",
        "data = pd.read_csv(file_path)"
      ],
      "metadata": {
        "id": "m8GExsVNpw-m"
      },
      "execution_count": 3,
      "outputs": []
    },
    {
      "cell_type": "code",
      "source": [
        "# Print column names to diagnose the issue\n",
        "print(\"Column names:\", data.columns)"
      ],
      "metadata": {
        "colab": {
          "base_uri": "https://localhost:8080/"
        },
        "id": "LO_v0qhip1VR",
        "outputId": "b0be2f30-1816-4907-ec37-e6b9c46b2bdd"
      },
      "execution_count": 4,
      "outputs": [
        {
          "output_type": "stream",
          "name": "stdout",
          "text": [
            "Column names: Index(['Name', 'Date of Birth', 'Gender', 'Marital Status', 'Phone Number',\n",
            "       'Email Address', 'Mailing Address', 'Language Preference',\n",
            "       'Geographical Location', 'Credit Score', 'Loan Type', 'Loan Amount',\n",
            "       'Loan Term', 'Interest Rate', 'Loan Purpose', 'EMI', 'IP Address',\n",
            "       'Geolocation', 'Repayment History', 'Days Left to Pay Current EMI',\n",
            "       'Delayed Payment'],\n",
            "      dtype='object')\n"
          ]
        }
      ]
    },
    {
      "cell_type": "markdown",
      "source": [
        "# **Data Cleaning**"
      ],
      "metadata": {
        "id": "7a4oWzoHzegm"
      }
    },
    {
      "cell_type": "code",
      "source": [
        "# Convert column names to a consistent format\n",
        "data.columns = [col.lower().replace(' ', '_') for col in data.columns]"
      ],
      "metadata": {
        "id": "WOq9t81ap4Ck"
      },
      "execution_count": 5,
      "outputs": []
    },
    {
      "cell_type": "code",
      "source": [
        "# Standardize date formats\n",
        "data['date_of_birth'] = pd.to_datetime(data['date_of_birth'], format='%d-%m-%Y')"
      ],
      "metadata": {
        "id": "x9--24CEqcCk"
      },
      "execution_count": 6,
      "outputs": []
    },
    {
      "cell_type": "code",
      "source": [
        "# Ensure numeric columns are in the correct format\n",
        "numeric_columns = ['phone_number', 'credit_score', 'loan_amount', 'loan_term', 'interest_rate', 'emi']\n",
        "for column in numeric_columns:\n",
        "    data[column] = pd.to_numeric(data[column], errors='coerce')"
      ],
      "metadata": {
        "id": "Reo7MqIJrfJP"
      },
      "execution_count": 7,
      "outputs": []
    },
    {
      "cell_type": "code",
      "source": [
        "# Clean phone numbers and email addresses\n",
        "data['phone_number'] = data['phone_number'].astype(str).str.replace(r'\\D', '', regex=True)\n",
        "data['email_address'] = data['email_address'].str.strip().str.lower()"
      ],
      "metadata": {
        "id": "lqET0Y-hriA1"
      },
      "execution_count": 8,
      "outputs": []
    },
    {
      "cell_type": "code",
      "source": [
        "# Standardize categorical data\n",
        "categorical_columns = ['gender', 'marital_status', 'language_preference', 'loan_purpose', 'delayed_payment']\n",
        "for column in categorical_columns:\n",
        "    data[column] = data[column].str.strip().str.lower().str.replace(' ', '_')"
      ],
      "metadata": {
        "id": "JgpCfYsQrk5y"
      },
      "execution_count": 9,
      "outputs": []
    },
    {
      "cell_type": "markdown",
      "source": [
        "# **SQL Connection and ETL**"
      ],
      "metadata": {
        "id": "C_7_TeYPzkjU"
      }
    },
    {
      "cell_type": "code",
      "source": [
        "# Create a SQLite database connection\n",
        "conn = sqlite3.connect('borrowers.db')"
      ],
      "metadata": {
        "id": "WqbvcC4krn65"
      },
      "execution_count": 10,
      "outputs": []
    },
    {
      "cell_type": "code",
      "source": [
        "# Define the schema for the borrowers table\n",
        "create_table_query = '''\n",
        "CREATE TABLE IF NOT EXISTS borrowers (\n",
        "    name TEXT,\n",
        "    date_of_birth DATE,\n",
        "    gender TEXT,\n",
        "    marital_status TEXT,\n",
        "    phone_number TEXT,\n",
        "    email_address TEXT,\n",
        "    mailing_address TEXT,\n",
        "    language_preference TEXT,\n",
        "    geographical_location TEXT,\n",
        "    credit_score INTEGER,\n",
        "    loan_amount REAL,\n",
        "    loan_term INTEGER,\n",
        "    interest_rate REAL,\n",
        "    loan_purpose TEXT,\n",
        "    emi REAL,\n",
        "    ip_address TEXT,\n",
        "    geolocation TEXT,\n",
        "    repayment_history TEXT,\n",
        "    days_left_to_pay_current_emi INTEGER,\n",
        "    delayed_payment TEXT\n",
        ")\n",
        "'''"
      ],
      "metadata": {
        "id": "d7ghVlOMshtF"
      },
      "execution_count": 11,
      "outputs": []
    },
    {
      "cell_type": "code",
      "source": [
        "# Execute the query to create the table\n",
        "conn.execute(create_table_query)\n",
        "conn.commit()"
      ],
      "metadata": {
        "id": "bCE8gAxIsmVY"
      },
      "execution_count": 12,
      "outputs": []
    },
    {
      "cell_type": "code",
      "source": [
        "# Load the data into the SQLite database\n",
        "data.to_sql('borrowers', conn, if_exists='replace', index=False)"
      ],
      "metadata": {
        "colab": {
          "base_uri": "https://localhost:8080/"
        },
        "id": "ruv-iMr5sqoc",
        "outputId": "bc638108-d1f9-4227-f04f-707a1af1f241"
      },
      "execution_count": 13,
      "outputs": [
        {
          "output_type": "execute_result",
          "data": {
            "text/plain": [
              "5000"
            ]
          },
          "metadata": {},
          "execution_count": 13
        }
      ]
    },
    {
      "cell_type": "code",
      "source": [
        "# Verify that the data has been loaded correctly\n",
        "loaded_data = pd.read_sql('SELECT * FROM borrowers', conn)\n",
        "loaded_data.head()"
      ],
      "metadata": {
        "colab": {
          "base_uri": "https://localhost:8080/",
          "height": 423
        },
        "id": "sVecSWqPstbA",
        "outputId": "1aa2a962-48e4-492b-cd27-bf4db4486f98"
      },
      "execution_count": 14,
      "outputs": [
        {
          "output_type": "execute_result",
          "data": {
            "text/plain": [
              "               name        date_of_birth  gender marital_status  phone_number  \\\n",
              "0      Khushi Balan  1986-02-19 00:00:00    male         single    2169182416   \n",
              "1  Umang Chatterjee  1980-08-13 00:00:00    male        married    4521712306   \n",
              "2        Adira Dara  1995-08-05 00:00:00  female        widowed    4615155004   \n",
              "3        Anvi Saini  2001-11-16 00:00:00    male        married  914836846677   \n",
              "4       Kartik Kade  1979-07-09 00:00:00    male        widowed  910186397558   \n",
              "\n",
              "             email_address                        mailing_address  \\\n",
              "0      xbhakta@example.com            29/74, Mander, Kulti 156906   \n",
              "1      ivaidya@example.org    73/885\\nSharma Marg\\nSolapur 386449   \n",
              "2  loyalvihaan@example.net   H.No. 468\\nRaval Zila\\nNanded 490253   \n",
              "3        tgaba@example.org    04/25, Mandal Path, Guntakal 305639   \n",
              "4     sanakaur@example.net  55/13, Srivastava Path\\nRaipur-801775   \n",
              "\n",
              "  language_preference geographical_location  credit_score  ... loan_amount  \\\n",
              "0             marathi               Danapur           491  ...       34398   \n",
              "1           malayalam             Bangalore           325  ...       96856   \n",
              "2           malayalam               Bijapur           624  ...       91301   \n",
              "3            gujarati                 Korba           346  ...       78981   \n",
              "4           malayalam                Jorhat           321  ...       89953   \n",
              "\n",
              "   loan_term  interest_rate       loan_purpose       emi       ip_address  \\\n",
              "0         15           0.16  medical_emergency   2545.36     10.65.217.95   \n",
              "1          9           0.20    home_renovation  11678.35  192.168.179.132   \n",
              "2         10           0.16    home_renovation   9812.94    10.166.34.134   \n",
              "3         14           0.28     education_fees   6678.01   10.107.161.197   \n",
              "4          1           0.29   wedding_expenses  92126.86   192.168.255.28   \n",
              "\n",
              "              geolocation                                  repayment_history  \\\n",
              "0  -49.3275015, 58.067192  [{'Payment Date': datetime.date(2023, 5, 3), '...   \n",
              "1  14.951437, -136.491335  [{'Payment Date': datetime.date(2023, 5, 1), '...   \n",
              "2   64.013123, 175.275587  [{'Payment Date': datetime.date(2023, 5, 7), '...   \n",
              "3  -11.6130395, 37.595772  [{'Payment Date': datetime.date(2023, 5, 10), ...   \n",
              "4  -71.7186905, 49.352990                                                 []   \n",
              "\n",
              "  days_left_to_pay_current_emi  delayed_payment  \n",
              "0                            2               no  \n",
              "1                            4              yes  \n",
              "2                            7               no  \n",
              "3                            7              yes  \n",
              "4                           11               no  \n",
              "\n",
              "[5 rows x 21 columns]"
            ],
            "text/html": [
              "\n",
              "  <div id=\"df-df5f1fd7-ffe3-4839-bb85-eb76836444e1\" class=\"colab-df-container\">\n",
              "    <div>\n",
              "<style scoped>\n",
              "    .dataframe tbody tr th:only-of-type {\n",
              "        vertical-align: middle;\n",
              "    }\n",
              "\n",
              "    .dataframe tbody tr th {\n",
              "        vertical-align: top;\n",
              "    }\n",
              "\n",
              "    .dataframe thead th {\n",
              "        text-align: right;\n",
              "    }\n",
              "</style>\n",
              "<table border=\"1\" class=\"dataframe\">\n",
              "  <thead>\n",
              "    <tr style=\"text-align: right;\">\n",
              "      <th></th>\n",
              "      <th>name</th>\n",
              "      <th>date_of_birth</th>\n",
              "      <th>gender</th>\n",
              "      <th>marital_status</th>\n",
              "      <th>phone_number</th>\n",
              "      <th>email_address</th>\n",
              "      <th>mailing_address</th>\n",
              "      <th>language_preference</th>\n",
              "      <th>geographical_location</th>\n",
              "      <th>credit_score</th>\n",
              "      <th>...</th>\n",
              "      <th>loan_amount</th>\n",
              "      <th>loan_term</th>\n",
              "      <th>interest_rate</th>\n",
              "      <th>loan_purpose</th>\n",
              "      <th>emi</th>\n",
              "      <th>ip_address</th>\n",
              "      <th>geolocation</th>\n",
              "      <th>repayment_history</th>\n",
              "      <th>days_left_to_pay_current_emi</th>\n",
              "      <th>delayed_payment</th>\n",
              "    </tr>\n",
              "  </thead>\n",
              "  <tbody>\n",
              "    <tr>\n",
              "      <th>0</th>\n",
              "      <td>Khushi Balan</td>\n",
              "      <td>1986-02-19 00:00:00</td>\n",
              "      <td>male</td>\n",
              "      <td>single</td>\n",
              "      <td>2169182416</td>\n",
              "      <td>xbhakta@example.com</td>\n",
              "      <td>29/74, Mander, Kulti 156906</td>\n",
              "      <td>marathi</td>\n",
              "      <td>Danapur</td>\n",
              "      <td>491</td>\n",
              "      <td>...</td>\n",
              "      <td>34398</td>\n",
              "      <td>15</td>\n",
              "      <td>0.16</td>\n",
              "      <td>medical_emergency</td>\n",
              "      <td>2545.36</td>\n",
              "      <td>10.65.217.95</td>\n",
              "      <td>-49.3275015, 58.067192</td>\n",
              "      <td>[{'Payment Date': datetime.date(2023, 5, 3), '...</td>\n",
              "      <td>2</td>\n",
              "      <td>no</td>\n",
              "    </tr>\n",
              "    <tr>\n",
              "      <th>1</th>\n",
              "      <td>Umang Chatterjee</td>\n",
              "      <td>1980-08-13 00:00:00</td>\n",
              "      <td>male</td>\n",
              "      <td>married</td>\n",
              "      <td>4521712306</td>\n",
              "      <td>ivaidya@example.org</td>\n",
              "      <td>73/885\\nSharma Marg\\nSolapur 386449</td>\n",
              "      <td>malayalam</td>\n",
              "      <td>Bangalore</td>\n",
              "      <td>325</td>\n",
              "      <td>...</td>\n",
              "      <td>96856</td>\n",
              "      <td>9</td>\n",
              "      <td>0.20</td>\n",
              "      <td>home_renovation</td>\n",
              "      <td>11678.35</td>\n",
              "      <td>192.168.179.132</td>\n",
              "      <td>14.951437, -136.491335</td>\n",
              "      <td>[{'Payment Date': datetime.date(2023, 5, 1), '...</td>\n",
              "      <td>4</td>\n",
              "      <td>yes</td>\n",
              "    </tr>\n",
              "    <tr>\n",
              "      <th>2</th>\n",
              "      <td>Adira Dara</td>\n",
              "      <td>1995-08-05 00:00:00</td>\n",
              "      <td>female</td>\n",
              "      <td>widowed</td>\n",
              "      <td>4615155004</td>\n",
              "      <td>loyalvihaan@example.net</td>\n",
              "      <td>H.No. 468\\nRaval Zila\\nNanded 490253</td>\n",
              "      <td>malayalam</td>\n",
              "      <td>Bijapur</td>\n",
              "      <td>624</td>\n",
              "      <td>...</td>\n",
              "      <td>91301</td>\n",
              "      <td>10</td>\n",
              "      <td>0.16</td>\n",
              "      <td>home_renovation</td>\n",
              "      <td>9812.94</td>\n",
              "      <td>10.166.34.134</td>\n",
              "      <td>64.013123, 175.275587</td>\n",
              "      <td>[{'Payment Date': datetime.date(2023, 5, 7), '...</td>\n",
              "      <td>7</td>\n",
              "      <td>no</td>\n",
              "    </tr>\n",
              "    <tr>\n",
              "      <th>3</th>\n",
              "      <td>Anvi Saini</td>\n",
              "      <td>2001-11-16 00:00:00</td>\n",
              "      <td>male</td>\n",
              "      <td>married</td>\n",
              "      <td>914836846677</td>\n",
              "      <td>tgaba@example.org</td>\n",
              "      <td>04/25, Mandal Path, Guntakal 305639</td>\n",
              "      <td>gujarati</td>\n",
              "      <td>Korba</td>\n",
              "      <td>346</td>\n",
              "      <td>...</td>\n",
              "      <td>78981</td>\n",
              "      <td>14</td>\n",
              "      <td>0.28</td>\n",
              "      <td>education_fees</td>\n",
              "      <td>6678.01</td>\n",
              "      <td>10.107.161.197</td>\n",
              "      <td>-11.6130395, 37.595772</td>\n",
              "      <td>[{'Payment Date': datetime.date(2023, 5, 10), ...</td>\n",
              "      <td>7</td>\n",
              "      <td>yes</td>\n",
              "    </tr>\n",
              "    <tr>\n",
              "      <th>4</th>\n",
              "      <td>Kartik Kade</td>\n",
              "      <td>1979-07-09 00:00:00</td>\n",
              "      <td>male</td>\n",
              "      <td>widowed</td>\n",
              "      <td>910186397558</td>\n",
              "      <td>sanakaur@example.net</td>\n",
              "      <td>55/13, Srivastava Path\\nRaipur-801775</td>\n",
              "      <td>malayalam</td>\n",
              "      <td>Jorhat</td>\n",
              "      <td>321</td>\n",
              "      <td>...</td>\n",
              "      <td>89953</td>\n",
              "      <td>1</td>\n",
              "      <td>0.29</td>\n",
              "      <td>wedding_expenses</td>\n",
              "      <td>92126.86</td>\n",
              "      <td>192.168.255.28</td>\n",
              "      <td>-71.7186905, 49.352990</td>\n",
              "      <td>[]</td>\n",
              "      <td>11</td>\n",
              "      <td>no</td>\n",
              "    </tr>\n",
              "  </tbody>\n",
              "</table>\n",
              "<p>5 rows × 21 columns</p>\n",
              "</div>\n",
              "    <div class=\"colab-df-buttons\">\n",
              "\n",
              "  <div class=\"colab-df-container\">\n",
              "    <button class=\"colab-df-convert\" onclick=\"convertToInteractive('df-df5f1fd7-ffe3-4839-bb85-eb76836444e1')\"\n",
              "            title=\"Convert this dataframe to an interactive table.\"\n",
              "            style=\"display:none;\">\n",
              "\n",
              "  <svg xmlns=\"http://www.w3.org/2000/svg\" height=\"24px\" viewBox=\"0 -960 960 960\">\n",
              "    <path d=\"M120-120v-720h720v720H120Zm60-500h600v-160H180v160Zm220 220h160v-160H400v160Zm0 220h160v-160H400v160ZM180-400h160v-160H180v160Zm440 0h160v-160H620v160ZM180-180h160v-160H180v160Zm440 0h160v-160H620v160Z\"/>\n",
              "  </svg>\n",
              "    </button>\n",
              "\n",
              "  <style>\n",
              "    .colab-df-container {\n",
              "      display:flex;\n",
              "      gap: 12px;\n",
              "    }\n",
              "\n",
              "    .colab-df-convert {\n",
              "      background-color: #E8F0FE;\n",
              "      border: none;\n",
              "      border-radius: 50%;\n",
              "      cursor: pointer;\n",
              "      display: none;\n",
              "      fill: #1967D2;\n",
              "      height: 32px;\n",
              "      padding: 0 0 0 0;\n",
              "      width: 32px;\n",
              "    }\n",
              "\n",
              "    .colab-df-convert:hover {\n",
              "      background-color: #E2EBFA;\n",
              "      box-shadow: 0px 1px 2px rgba(60, 64, 67, 0.3), 0px 1px 3px 1px rgba(60, 64, 67, 0.15);\n",
              "      fill: #174EA6;\n",
              "    }\n",
              "\n",
              "    .colab-df-buttons div {\n",
              "      margin-bottom: 4px;\n",
              "    }\n",
              "\n",
              "    [theme=dark] .colab-df-convert {\n",
              "      background-color: #3B4455;\n",
              "      fill: #D2E3FC;\n",
              "    }\n",
              "\n",
              "    [theme=dark] .colab-df-convert:hover {\n",
              "      background-color: #434B5C;\n",
              "      box-shadow: 0px 1px 3px 1px rgba(0, 0, 0, 0.15);\n",
              "      filter: drop-shadow(0px 1px 2px rgba(0, 0, 0, 0.3));\n",
              "      fill: #FFFFFF;\n",
              "    }\n",
              "  </style>\n",
              "\n",
              "    <script>\n",
              "      const buttonEl =\n",
              "        document.querySelector('#df-df5f1fd7-ffe3-4839-bb85-eb76836444e1 button.colab-df-convert');\n",
              "      buttonEl.style.display =\n",
              "        google.colab.kernel.accessAllowed ? 'block' : 'none';\n",
              "\n",
              "      async function convertToInteractive(key) {\n",
              "        const element = document.querySelector('#df-df5f1fd7-ffe3-4839-bb85-eb76836444e1');\n",
              "        const dataTable =\n",
              "          await google.colab.kernel.invokeFunction('convertToInteractive',\n",
              "                                                    [key], {});\n",
              "        if (!dataTable) return;\n",
              "\n",
              "        const docLinkHtml = 'Like what you see? Visit the ' +\n",
              "          '<a target=\"_blank\" href=https://colab.research.google.com/notebooks/data_table.ipynb>data table notebook</a>'\n",
              "          + ' to learn more about interactive tables.';\n",
              "        element.innerHTML = '';\n",
              "        dataTable['output_type'] = 'display_data';\n",
              "        await google.colab.output.renderOutput(dataTable, element);\n",
              "        const docLink = document.createElement('div');\n",
              "        docLink.innerHTML = docLinkHtml;\n",
              "        element.appendChild(docLink);\n",
              "      }\n",
              "    </script>\n",
              "  </div>\n",
              "\n",
              "\n",
              "<div id=\"df-c3ae4448-c11a-42f5-a4da-d479859f0c77\">\n",
              "  <button class=\"colab-df-quickchart\" onclick=\"quickchart('df-c3ae4448-c11a-42f5-a4da-d479859f0c77')\"\n",
              "            title=\"Suggest charts\"\n",
              "            style=\"display:none;\">\n",
              "\n",
              "<svg xmlns=\"http://www.w3.org/2000/svg\" height=\"24px\"viewBox=\"0 0 24 24\"\n",
              "     width=\"24px\">\n",
              "    <g>\n",
              "        <path d=\"M19 3H5c-1.1 0-2 .9-2 2v14c0 1.1.9 2 2 2h14c1.1 0 2-.9 2-2V5c0-1.1-.9-2-2-2zM9 17H7v-7h2v7zm4 0h-2V7h2v10zm4 0h-2v-4h2v4z\"/>\n",
              "    </g>\n",
              "</svg>\n",
              "  </button>\n",
              "\n",
              "<style>\n",
              "  .colab-df-quickchart {\n",
              "      --bg-color: #E8F0FE;\n",
              "      --fill-color: #1967D2;\n",
              "      --hover-bg-color: #E2EBFA;\n",
              "      --hover-fill-color: #174EA6;\n",
              "      --disabled-fill-color: #AAA;\n",
              "      --disabled-bg-color: #DDD;\n",
              "  }\n",
              "\n",
              "  [theme=dark] .colab-df-quickchart {\n",
              "      --bg-color: #3B4455;\n",
              "      --fill-color: #D2E3FC;\n",
              "      --hover-bg-color: #434B5C;\n",
              "      --hover-fill-color: #FFFFFF;\n",
              "      --disabled-bg-color: #3B4455;\n",
              "      --disabled-fill-color: #666;\n",
              "  }\n",
              "\n",
              "  .colab-df-quickchart {\n",
              "    background-color: var(--bg-color);\n",
              "    border: none;\n",
              "    border-radius: 50%;\n",
              "    cursor: pointer;\n",
              "    display: none;\n",
              "    fill: var(--fill-color);\n",
              "    height: 32px;\n",
              "    padding: 0;\n",
              "    width: 32px;\n",
              "  }\n",
              "\n",
              "  .colab-df-quickchart:hover {\n",
              "    background-color: var(--hover-bg-color);\n",
              "    box-shadow: 0 1px 2px rgba(60, 64, 67, 0.3), 0 1px 3px 1px rgba(60, 64, 67, 0.15);\n",
              "    fill: var(--button-hover-fill-color);\n",
              "  }\n",
              "\n",
              "  .colab-df-quickchart-complete:disabled,\n",
              "  .colab-df-quickchart-complete:disabled:hover {\n",
              "    background-color: var(--disabled-bg-color);\n",
              "    fill: var(--disabled-fill-color);\n",
              "    box-shadow: none;\n",
              "  }\n",
              "\n",
              "  .colab-df-spinner {\n",
              "    border: 2px solid var(--fill-color);\n",
              "    border-color: transparent;\n",
              "    border-bottom-color: var(--fill-color);\n",
              "    animation:\n",
              "      spin 1s steps(1) infinite;\n",
              "  }\n",
              "\n",
              "  @keyframes spin {\n",
              "    0% {\n",
              "      border-color: transparent;\n",
              "      border-bottom-color: var(--fill-color);\n",
              "      border-left-color: var(--fill-color);\n",
              "    }\n",
              "    20% {\n",
              "      border-color: transparent;\n",
              "      border-left-color: var(--fill-color);\n",
              "      border-top-color: var(--fill-color);\n",
              "    }\n",
              "    30% {\n",
              "      border-color: transparent;\n",
              "      border-left-color: var(--fill-color);\n",
              "      border-top-color: var(--fill-color);\n",
              "      border-right-color: var(--fill-color);\n",
              "    }\n",
              "    40% {\n",
              "      border-color: transparent;\n",
              "      border-right-color: var(--fill-color);\n",
              "      border-top-color: var(--fill-color);\n",
              "    }\n",
              "    60% {\n",
              "      border-color: transparent;\n",
              "      border-right-color: var(--fill-color);\n",
              "    }\n",
              "    80% {\n",
              "      border-color: transparent;\n",
              "      border-right-color: var(--fill-color);\n",
              "      border-bottom-color: var(--fill-color);\n",
              "    }\n",
              "    90% {\n",
              "      border-color: transparent;\n",
              "      border-bottom-color: var(--fill-color);\n",
              "    }\n",
              "  }\n",
              "</style>\n",
              "\n",
              "  <script>\n",
              "    async function quickchart(key) {\n",
              "      const quickchartButtonEl =\n",
              "        document.querySelector('#' + key + ' button');\n",
              "      quickchartButtonEl.disabled = true;  // To prevent multiple clicks.\n",
              "      quickchartButtonEl.classList.add('colab-df-spinner');\n",
              "      try {\n",
              "        const charts = await google.colab.kernel.invokeFunction(\n",
              "            'suggestCharts', [key], {});\n",
              "      } catch (error) {\n",
              "        console.error('Error during call to suggestCharts:', error);\n",
              "      }\n",
              "      quickchartButtonEl.classList.remove('colab-df-spinner');\n",
              "      quickchartButtonEl.classList.add('colab-df-quickchart-complete');\n",
              "    }\n",
              "    (() => {\n",
              "      let quickchartButtonEl =\n",
              "        document.querySelector('#df-c3ae4448-c11a-42f5-a4da-d479859f0c77 button');\n",
              "      quickchartButtonEl.style.display =\n",
              "        google.colab.kernel.accessAllowed ? 'block' : 'none';\n",
              "    })();\n",
              "  </script>\n",
              "</div>\n",
              "\n",
              "    </div>\n",
              "  </div>\n"
            ],
            "application/vnd.google.colaboratory.intrinsic+json": {
              "type": "dataframe",
              "variable_name": "loaded_data"
            }
          },
          "metadata": {},
          "execution_count": 14
        }
      ]
    },
    {
      "cell_type": "markdown",
      "source": [
        "#**Queries**"
      ],
      "metadata": {
        "id": "sdq4WYpszttQ"
      }
    },
    {
      "cell_type": "code",
      "source": [
        "'''What is the average loan amount for borrowers who are more than 5 days past due? '''\n",
        "query_a = '''\n",
        "SELECT AVG(loan_amount) AS average_loan_amount\n",
        "FROM borrowers\n",
        "WHERE days_left_to_pay_current_emi > 5\n",
        "'''"
      ],
      "metadata": {
        "id": "p5gntXrCswbX"
      },
      "execution_count": 15,
      "outputs": []
    },
    {
      "cell_type": "code",
      "source": [
        "avg_loan_amount = pd.read_sql(query_a, conn).iloc[0]['average_loan_amount']\n",
        "print(\"Average loan amount for borrowers who are more than 5 days past due:\")\n",
        "print(avg_loan_amount)"
      ],
      "metadata": {
        "colab": {
          "base_uri": "https://localhost:8080/"
        },
        "id": "nBKDyxVAtJew",
        "outputId": "af2b92d3-e39e-4195-eeba-bd206a8d6619"
      },
      "execution_count": 16,
      "outputs": [
        {
          "output_type": "stream",
          "name": "stdout",
          "text": [
            "Average loan amount for borrowers who are more than 5 days past due:\n",
            "54683.15681685196\n"
          ]
        }
      ]
    },
    {
      "cell_type": "code",
      "source": [
        "'''Who are the top 10 borrowers with the highest outstanding balance? '''\n",
        "query_b = '''\n",
        "SELECT name, loan_amount - (emi * loan_term) AS outstanding_balance\n",
        "FROM borrowers\n",
        "ORDER BY outstanding_balance DESC\n",
        "LIMIT 10\n",
        "'''"
      ],
      "metadata": {
        "id": "zOtFdxw5tYqh"
      },
      "execution_count": 17,
      "outputs": []
    },
    {
      "cell_type": "code",
      "source": [
        "top_borrowers = pd.read_sql(query_b, conn)\n",
        "print(\"\\nTop 10 borrowers with the highest outstanding balance:\")\n",
        "print(top_borrowers)"
      ],
      "metadata": {
        "colab": {
          "base_uri": "https://localhost:8080/"
        },
        "id": "UpQUQKAKtgqP",
        "outputId": "29fc4705-e3c8-4a90-b19a-b27387be2681"
      },
      "execution_count": 18,
      "outputs": [
        {
          "output_type": "stream",
          "name": "stdout",
          "text": [
            "\n",
            "Top 10 borrowers with the highest outstanding balance:\n",
            "              name  outstanding_balance\n",
            "0  Jayant Bhandari              -108.01\n",
            "1   Riaan Bhargava              -122.31\n",
            "2      Prisha Char              -149.79\n",
            "3        Ivan Keer              -152.70\n",
            "4        Ira Varty              -156.64\n",
            "5      Riaan Lalla              -158.91\n",
            "6        Urvi Virk              -161.40\n",
            "7     Yasmin Divan              -163.69\n",
            "8     Kiara Kurian              -166.93\n",
            "9      Bhavin Bala              -168.79\n"
          ]
        }
      ]
    },
    {
      "cell_type": "code",
      "source": [
        "'''List of all borrowers with good repayment history'''\n",
        "query_c = '''\n",
        "SELECT *\n",
        "FROM borrowers\n",
        "WHERE delayed_payment = 'no'\n",
        "ORDER BY credit_score DESC\n",
        "LIMIT 10\n",
        "'''"
      ],
      "metadata": {
        "id": "VrDlFkxwtiwV"
      },
      "execution_count": 19,
      "outputs": []
    },
    {
      "cell_type": "code",
      "source": [
        "good_repayment_history_borrowers = pd.read_sql(query_c, conn)\n",
        "print(\"\\nList of all borrowers with good repayment history:\")\n",
        "print(good_repayment_history_borrowers)"
      ],
      "metadata": {
        "colab": {
          "base_uri": "https://localhost:8080/"
        },
        "id": "MTZHNn0_tsOd",
        "outputId": "e1b22eb2-5aa5-4426-eede-5e7db614a403"
      },
      "execution_count": 20,
      "outputs": [
        {
          "output_type": "stream",
          "name": "stdout",
          "text": [
            "\n",
            "List of all borrowers with good repayment history:\n",
            "             name        date_of_birth  gender marital_status  phone_number  \\\n",
            "0    Shamik Joshi  1958-06-09 00:00:00  female       divorced  911093729717   \n",
            "1       Shalv Lad  1990-07-13 00:00:00  female         single    4589119073   \n",
            "2       Anvi Saha  1963-04-28 00:00:00  female        married    5437600486   \n",
            "3    Kaira Doctor  1993-06-07 00:00:00  female         single    8270610885   \n",
            "4     Aarna Salvi  2006-02-02 00:00:00  female       divorced  917866622488   \n",
            "5      Aaina Dhar  1976-10-03 00:00:00    male        married  912339472539   \n",
            "6     Zaina Kunda  2002-10-01 00:00:00    male       divorced     331501984   \n",
            "7  Keya Jayaraman  1984-09-12 00:00:00  female        married  910090460649   \n",
            "8     Adira Magar  1961-08-02 00:00:00  female        widowed    3044785047   \n",
            "9     Divit Sahni  2003-12-12 00:00:00    male         single    4517399636   \n",
            "\n",
            "                email_address                               mailing_address  \\\n",
            "0       sanetaran@example.com                978, Bora Circle\\nMorbi-360916   \n",
            "1      uthkarsh81@example.org               06\\nBorde Road\\nJabalpur 421173   \n",
            "2    karpemanikya@example.net         00/540, Shanker Circle, Ambala-740034   \n",
            "3       samarth49@example.com      H.No. 862, Bali Path\\nRajahmundry 696017   \n",
            "4       iyerneysa@example.net               50/23\\nBahl Nagar\\nSagar-682065   \n",
            "5  trishayohannan@example.org    85/61, Bhattacharyya Street\\nNagaon-776969   \n",
            "6         aarav65@example.org           80/534, Bedi Road, Begusarai-165913   \n",
            "7      dhruvvarty@example.org                  17\\nSarin Road\\nSiwan-621621   \n",
            "8         jayan57@example.net           19/83\\nLalla Marg\\nNew Delhi 641179   \n",
            "9    ochakrabarti@example.net  797, Kadakia Circle\\nPimpri-Chinchwad 819025   \n",
            "\n",
            "  language_preference  geographical_location  credit_score  ... loan_amount  \\\n",
            "0           malayalam              Ghaziabad           850  ...       66554   \n",
            "1           malayalam                  Unnao           850  ...       83302   \n",
            "2              telugu            Dharmavaram           850  ...       61303   \n",
            "3           malayalam               Suryapet           850  ...       33490   \n",
            "4             marathi              Jehanabad           849  ...       93634   \n",
            "5           malayalam  Surendranagar Dudhrej           849  ...       51297   \n",
            "6              telugu                 Purnia           849  ...       19858   \n",
            "7           malayalam                   Pali           849  ...       88031   \n",
            "8           malayalam                 Indore           849  ...       67075   \n",
            "9             marathi                Aligarh           848  ...       82143   \n",
            "\n",
            "   loan_term  interest_rate        loan_purpose       emi       ip_address  \\\n",
            "0          3           0.12     home_renovation  22629.83   10.147.218.201   \n",
            "1         10           0.26  debt_consolidation   9354.78    172.18.27.131   \n",
            "2         10           0.14    wedding_expenses   6530.50   172.24.108.140   \n",
            "3          6           0.26     home_renovation   6012.50    192.168.60.22   \n",
            "4          2           0.12    wedding_expenses  47520.42  192.168.130.184   \n",
            "5          9           0.18     home_renovation   6135.63  192.168.126.214   \n",
            "6         14           0.24  debt_consolidation   1640.31   192.168.78.199   \n",
            "7         11           0.26    wedding_expenses   9080.32    172.18.210.85   \n",
            "8          6           0.21      education_fees  11873.79   192.168.14.226   \n",
            "9          7           0.12   medical_emergency  12208.77    10.163.229.86   \n",
            "\n",
            "                geolocation  \\\n",
            "0     49.165793, -29.781993   \n",
            "1   42.1489645, -176.562735   \n",
            "2     -8.5503325, 38.597978   \n",
            "3    56.1319745, -82.258462   \n",
            "4    -16.633570, -44.023049   \n",
            "5   -16.5020655, -56.759964   \n",
            "6      15.859225, 45.073778   \n",
            "7    43.346143, -121.875828   \n",
            "8  -83.7392695, -146.948183   \n",
            "9     -3.4631075, 56.091920   \n",
            "\n",
            "                                   repayment_history  \\\n",
            "0  [{'Payment Date': datetime.date(2023, 5, 10), ...   \n",
            "1  [{'Payment Date': datetime.date(2023, 5, 13), ...   \n",
            "2  [{'Payment Date': datetime.date(2023, 5, 13), ...   \n",
            "3  [{'Payment Date': datetime.date(2023, 5, 14), ...   \n",
            "4  [{'Payment Date': datetime.date(2023, 5, 18), ...   \n",
            "5  [{'Payment Date': datetime.date(2023, 5, 14), ...   \n",
            "6  [{'Payment Date': datetime.date(2023, 5, 16), ...   \n",
            "7  [{'Payment Date': datetime.date(2023, 5, 6), '...   \n",
            "8  [{'Payment Date': datetime.date(2023, 5, 2), '...   \n",
            "9  [{'Payment Date': datetime.date(2023, 5, 2), '...   \n",
            "\n",
            "  days_left_to_pay_current_emi  delayed_payment  \n",
            "0                           15               no  \n",
            "1                            3               no  \n",
            "2                            6               no  \n",
            "3                            6               no  \n",
            "4                            1               no  \n",
            "5                            9               no  \n",
            "6                           10               no  \n",
            "7                            5               no  \n",
            "8                            5               no  \n",
            "9                            4               no  \n",
            "\n",
            "[10 rows x 21 columns]\n"
          ]
        }
      ]
    },
    {
      "cell_type": "code",
      "source": [
        "'''Brief analysis wrt loan type'''\n",
        "query_d = '''\n",
        "SELECT loan_purpose, COUNT(*) AS num_borrowers, AVG(loan_amount) AS avg_loan_amount\n",
        "FROM borrowers\n",
        "GROUP BY loan_purpose\n",
        "'''"
      ],
      "metadata": {
        "id": "-Ik-ETz8tuh9"
      },
      "execution_count": 21,
      "outputs": []
    },
    {
      "cell_type": "code",
      "source": [
        "loan_type_analysis = pd.read_sql(query_d, conn)\n",
        "print(\"\\nBrief analysis with respect to loan type:\")\n",
        "print(loan_type_analysis)\n"
      ],
      "metadata": {
        "colab": {
          "base_uri": "https://localhost:8080/"
        },
        "id": "cwKg8DtOt6bH",
        "outputId": "5db9e913-ac9b-4e77-fec1-bfddc6eb18f7"
      },
      "execution_count": 22,
      "outputs": [
        {
          "output_type": "stream",
          "name": "stdout",
          "text": [
            "\n",
            "Brief analysis with respect to loan type:\n",
            "         loan_purpose  num_borrowers  avg_loan_amount\n",
            "0  debt_consolidation           1020     55704.978431\n",
            "1      education_fees           1053     56063.981956\n",
            "2     home_renovation            956     54320.202929\n",
            "3   medical_emergency            981     54787.685015\n",
            "4    wedding_expenses            990     55490.034343\n"
          ]
        }
      ]
    },
    {
      "cell_type": "code",
      "source": [
        "conn.close()"
      ],
      "metadata": {
        "id": "ahR4Qf_et9pt"
      },
      "execution_count": 23,
      "outputs": []
    },
    {
      "cell_type": "markdown",
      "source": [
        "#**Report Writing**"
      ],
      "metadata": {
        "id": "lChogVy9z5s5"
      }
    },
    {
      "cell_type": "code",
      "source": [
        "report_content = f\"\"\"\n",
        "Analysis Report\n",
        "\n",
        "a. Average loan amount for borrowers who are more than 5 days past due:\n",
        "--------------------------------------------------------------------------------\n",
        "{avg_loan_amount:.2f}\n",
        "\n",
        "b. Top 10 borrowers with the highest outstanding balance:\n",
        "--------------------------------------------------------------------------------\n",
        "{top_borrowers[['name', 'outstanding_balance']].to_string(index=False)}\n",
        "\n",
        "c. List of all borrowers with good repayment history:\n",
        "--------------------------------------------------------------------------------\n",
        "{good_repayment_history_borrowers['name'].to_string(index=False)}\n",
        "\n",
        "d. Brief analysis with respect to loan type:\n",
        "--------------------------------------------------------------------------------\n",
        "{loan_type_analysis.to_string(index=False)}\n",
        "\"\"\"\n"
      ],
      "metadata": {
        "id": "e1NivWnpvN0F"
      },
      "execution_count": 28,
      "outputs": []
    },
    {
      "cell_type": "code",
      "source": [
        "report_file_path = 'borrowers_analysis_report.txt'\n",
        "with open(report_file_path, 'w') as file:\n",
        "    file.write(report_content)"
      ],
      "metadata": {
        "id": "vZNpZ7N4vR0O"
      },
      "execution_count": 29,
      "outputs": []
    },
    {
      "cell_type": "code",
      "source": [
        "report_file_path"
      ],
      "metadata": {
        "colab": {
          "base_uri": "https://localhost:8080/",
          "height": 35
        },
        "id": "yZrCGgeGvX6l",
        "outputId": "3a60713e-a4b5-41fa-a1d3-66f39d74bdf9"
      },
      "execution_count": 30,
      "outputs": [
        {
          "output_type": "execute_result",
          "data": {
            "text/plain": [
              "'borrowers_analysis_report.txt'"
            ],
            "application/vnd.google.colaboratory.intrinsic+json": {
              "type": "string"
            }
          },
          "metadata": {},
          "execution_count": 30
        }
      ]
    },
    {
      "cell_type": "code",
      "source": [],
      "metadata": {
        "id": "l38OpyuPk6aN"
      },
      "execution_count": null,
      "outputs": []
    }
  ]
}